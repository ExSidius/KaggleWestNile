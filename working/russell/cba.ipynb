{
 "cells": [
  {
   "cell_type": "code",
   "execution_count": 8,
   "metadata": {},
   "outputs": [],
   "source": [
    "import pandas as pd\n",
    "train=pd.read_csv('../../input/final/train_final.csv').drop('Unnamed: 0', axis=1)\n",
    "train_target=pd.read_csv('../../input/final/train_target_final.csv').drop('Unnamed: 0', axis=1)\n",
    "test=pd.read_csv('../../input/final/test_final.csv').drop('Unnamed: 0', axis=1)"
   ]
  },
  {
   "cell_type": "code",
   "execution_count": 9,
   "metadata": {},
   "outputs": [],
   "source": [
    "from xgboost import XGBClassifier"
   ]
  },
  {
   "cell_type": "code",
   "execution_count": 10,
   "metadata": {},
   "outputs": [
    {
     "name": "stderr",
     "output_type": "stream",
     "text": [
      "/home/rb/anaconda2/lib/python2.7/site-packages/sklearn/preprocessing/label.py:112: DataConversionWarning: A column-vector y was passed when a 1d array was expected. Please change the shape of y to (n_samples, ), for example using ravel().\n",
      "  y = column_or_1d(y, warn=True)\n",
      "/home/rb/anaconda2/lib/python2.7/site-packages/sklearn/preprocessing/label.py:147: DataConversionWarning: A column-vector y was passed when a 1d array was expected. Please change the shape of y to (n_samples, ), for example using ravel().\n",
      "  y = column_or_1d(y, warn=True)\n"
     ]
    },
    {
     "data": {
      "text/plain": [
       "XGBClassifier(base_score=0.5, colsample_bylevel=1, colsample_bytree=1,\n",
       "       gamma=0, learning_rate=0.2, max_delta_step=0, max_depth=3,\n",
       "       min_child_weight=1, missing=None, n_estimators=100, nthread=-1,\n",
       "       objective='binary:logistic', reg_alpha=0, reg_lambda=1,\n",
       "       scale_pos_weight=1, seed=42, silent=1, subsample=1)"
      ]
     },
     "execution_count": 10,
     "metadata": {},
     "output_type": "execute_result"
    }
   ],
   "source": [
    "xgb1 = XGBClassifier(learning_rate=0.2, seed=42, silent=1)\n",
    "xgb1.fit(train, train_target)"
   ]
  },
  {
   "cell_type": "code",
   "execution_count": 13,
   "metadata": {},
   "outputs": [
    {
     "ename": "ValueError",
     "evalue": "feature_names mismatch: [u'Lat', u'Long', u'AddressAccuracy', u'Species_Fact', u'Trap_Fact', u'Date_Ord', u'Days_Since_Last_Check', u'Spray_Factor', u'TSRA', u'DZ', u'BR', u'BCFG', u'SN', u'VCFG', u'RA', u'HZ', u'VCTS', u'FU', u'FG+', u'MIFG', u'SQ', u'GR', u'FG', u'TS', u'Temp_Min_both', u'Temp_Max_both', u'Temp_Avg_both', u'Temp_Dew_Point_both', u'Temp_Wet_Bulb_both', u'StnPressure_both', u'Ht_Cool_both', u'Day Length', u'Temp_Min', u'Temp_Max', u'Temp_Avg', u'Temp_Dew_Point', u'StnPressure', u'Day_Length', u'Ht_Cool', u'PrecipTotal', u'Temp_Min1', u'Temp_Min2', u'Temp_Min4', u'Temp_Min7', u'Temp_Min10', u'Temp_Min14', u'Temp_Max1', u'Temp_Max2', u'Temp_Max4', u'Temp_Max7', u'Temp_Max10', u'Temp_Max14', u'Temp_Dew_Point1', u'Temp_Dew_Point2', u'Temp_Dew_Point4', u'Temp_Dew_Point7', u'Temp_Dew_Point10', u'Temp_Dew_Point14', u'Temp_Avg1', u'Temp_Avg2', u'Temp_Avg4', u'Temp_Avg7', u'Temp_Avg10', u'Temp_Avg14', u'PrecipTotal1', u'PrecipTotal2', u'PrecipTotal4', u'PrecipTotal7', u'PrecipTotal10', u'PrecipTotal14'] [u'Lat', u'Long', u'AddressAccuracy', u'Duplicated_Rows', u'Species_Fact', u'Trap_Fact', u'Date_Ord', u'Week', u'Year', u'Days_Since_Last_Check', u'Spray_Factor', u'MIFG', u'FG', u'HZ', u'FG+', u'VCFG', u'BCFG', u'DZ', u'SN', u'GR', u'TSRA', u'TS', u'SQ', u'VCTS', u'FU', u'RA', u'BR', u'Temp_Min_both', u'Temp_Max_both', u'Temp_Avg_both', u'Temp_Dew_Point_both', u'Temp_Wet_Bulb_both', u'StnPressure_both', u'Ht_Cool_both', u'Day Length', u'Temp_Min', u'Temp_Max', u'Temp_Avg', u'Temp_Dew_Point', u'StnPressure', u'Day_Length', u'Ht_Cool', u'PrecipTotal', u'Temp_Min1', u'Temp_Min2', u'Temp_Min4', u'Temp_Min7', u'Temp_Min10', u'Temp_Min14', u'Temp_Max1', u'Temp_Max2', u'Temp_Max4', u'Temp_Max7', u'Temp_Max10', u'Temp_Max14', u'Temp_Dew_Point1', u'Temp_Dew_Point2', u'Temp_Dew_Point4', u'Temp_Dew_Point7', u'Temp_Dew_Point10', u'Temp_Dew_Point14', u'Temp_Avg1', u'Temp_Avg2', u'Temp_Avg4', u'Temp_Avg7', u'Temp_Avg10', u'Temp_Avg14', u'PrecipTotal1', u'PrecipTotal2', u'PrecipTotal4', u'PrecipTotal7', u'PrecipTotal10', u'PrecipTotal14', u'Trap_Count', u'Trap_By_Year_Count']\ntraining data did not have the following fields: Week, Duplicated_Rows, Year, Trap_Count, Trap_By_Year_Count",
     "output_type": "error",
     "traceback": [
      "\u001b[0;31m---------------------------------------------------------------------------\u001b[0m",
      "\u001b[0;31mValueError\u001b[0m                                Traceback (most recent call last)",
      "\u001b[0;32m<ipython-input-13-ee10af6ceb6c>\u001b[0m in \u001b[0;36m<module>\u001b[0;34m()\u001b[0m\n\u001b[0;32m----> 1\u001b[0;31m \u001b[0mpred\u001b[0m\u001b[0;34m=\u001b[0m\u001b[0mxgb1\u001b[0m\u001b[0;34m.\u001b[0m\u001b[0mpredict_proba\u001b[0m\u001b[0;34m(\u001b[0m\u001b[0mtest\u001b[0m\u001b[0;34m)\u001b[0m\u001b[0;34m\u001b[0m\u001b[0m\n\u001b[0m",
      "\u001b[0;32m/home/rb/anaconda2/lib/python2.7/site-packages/xgboost/sklearn.pyc\u001b[0m in \u001b[0;36mpredict_proba\u001b[0;34m(self, data, output_margin, ntree_limit)\u001b[0m\n\u001b[1;32m    475\u001b[0m         class_probs = self.booster().predict(test_dmatrix,\n\u001b[1;32m    476\u001b[0m                                              \u001b[0moutput_margin\u001b[0m\u001b[0;34m=\u001b[0m\u001b[0moutput_margin\u001b[0m\u001b[0;34m,\u001b[0m\u001b[0;34m\u001b[0m\u001b[0m\n\u001b[0;32m--> 477\u001b[0;31m                                              ntree_limit=ntree_limit)\n\u001b[0m\u001b[1;32m    478\u001b[0m         \u001b[0;32mif\u001b[0m \u001b[0mself\u001b[0m\u001b[0;34m.\u001b[0m\u001b[0mobjective\u001b[0m \u001b[0;34m==\u001b[0m \u001b[0;34m\"multi:softprob\"\u001b[0m\u001b[0;34m:\u001b[0m\u001b[0;34m\u001b[0m\u001b[0m\n\u001b[1;32m    479\u001b[0m             \u001b[0;32mreturn\u001b[0m \u001b[0mclass_probs\u001b[0m\u001b[0;34m\u001b[0m\u001b[0m\n",
      "\u001b[0;32m/home/rb/anaconda2/lib/python2.7/site-packages/xgboost/core.pyc\u001b[0m in \u001b[0;36mpredict\u001b[0;34m(self, data, output_margin, ntree_limit, pred_leaf)\u001b[0m\n\u001b[1;32m    937\u001b[0m             \u001b[0moption_mask\u001b[0m \u001b[0;34m|=\u001b[0m \u001b[0;36m0x02\u001b[0m\u001b[0;34m\u001b[0m\u001b[0m\n\u001b[1;32m    938\u001b[0m \u001b[0;34m\u001b[0m\u001b[0m\n\u001b[0;32m--> 939\u001b[0;31m         \u001b[0mself\u001b[0m\u001b[0;34m.\u001b[0m\u001b[0m_validate_features\u001b[0m\u001b[0;34m(\u001b[0m\u001b[0mdata\u001b[0m\u001b[0;34m)\u001b[0m\u001b[0;34m\u001b[0m\u001b[0m\n\u001b[0m\u001b[1;32m    940\u001b[0m \u001b[0;34m\u001b[0m\u001b[0m\n\u001b[1;32m    941\u001b[0m         \u001b[0mlength\u001b[0m \u001b[0;34m=\u001b[0m \u001b[0mctypes\u001b[0m\u001b[0;34m.\u001b[0m\u001b[0mc_ulong\u001b[0m\u001b[0;34m(\u001b[0m\u001b[0;34m)\u001b[0m\u001b[0;34m\u001b[0m\u001b[0m\n",
      "\u001b[0;32m/home/rb/anaconda2/lib/python2.7/site-packages/xgboost/core.pyc\u001b[0m in \u001b[0;36m_validate_features\u001b[0;34m(self, data)\u001b[0m\n\u001b[1;32m   1177\u001b[0m \u001b[0;34m\u001b[0m\u001b[0m\n\u001b[1;32m   1178\u001b[0m                 raise ValueError(msg.format(self.feature_names,\n\u001b[0;32m-> 1179\u001b[0;31m                                             data.feature_names))\n\u001b[0m\u001b[1;32m   1180\u001b[0m \u001b[0;34m\u001b[0m\u001b[0m\n\u001b[1;32m   1181\u001b[0m     \u001b[0;32mdef\u001b[0m \u001b[0mget_split_value_histogram\u001b[0m\u001b[0;34m(\u001b[0m\u001b[0mself\u001b[0m\u001b[0;34m,\u001b[0m \u001b[0mfeature\u001b[0m\u001b[0;34m,\u001b[0m \u001b[0mfmap\u001b[0m\u001b[0;34m=\u001b[0m\u001b[0;34m''\u001b[0m\u001b[0;34m,\u001b[0m \u001b[0mbins\u001b[0m\u001b[0;34m=\u001b[0m\u001b[0mNone\u001b[0m\u001b[0;34m,\u001b[0m \u001b[0mas_pandas\u001b[0m\u001b[0;34m=\u001b[0m\u001b[0mTrue\u001b[0m\u001b[0;34m)\u001b[0m\u001b[0;34m:\u001b[0m\u001b[0;34m\u001b[0m\u001b[0m\n",
      "\u001b[0;31mValueError\u001b[0m: feature_names mismatch: [u'Lat', u'Long', u'AddressAccuracy', u'Species_Fact', u'Trap_Fact', u'Date_Ord', u'Days_Since_Last_Check', u'Spray_Factor', u'TSRA', u'DZ', u'BR', u'BCFG', u'SN', u'VCFG', u'RA', u'HZ', u'VCTS', u'FU', u'FG+', u'MIFG', u'SQ', u'GR', u'FG', u'TS', u'Temp_Min_both', u'Temp_Max_both', u'Temp_Avg_both', u'Temp_Dew_Point_both', u'Temp_Wet_Bulb_both', u'StnPressure_both', u'Ht_Cool_both', u'Day Length', u'Temp_Min', u'Temp_Max', u'Temp_Avg', u'Temp_Dew_Point', u'StnPressure', u'Day_Length', u'Ht_Cool', u'PrecipTotal', u'Temp_Min1', u'Temp_Min2', u'Temp_Min4', u'Temp_Min7', u'Temp_Min10', u'Temp_Min14', u'Temp_Max1', u'Temp_Max2', u'Temp_Max4', u'Temp_Max7', u'Temp_Max10', u'Temp_Max14', u'Temp_Dew_Point1', u'Temp_Dew_Point2', u'Temp_Dew_Point4', u'Temp_Dew_Point7', u'Temp_Dew_Point10', u'Temp_Dew_Point14', u'Temp_Avg1', u'Temp_Avg2', u'Temp_Avg4', u'Temp_Avg7', u'Temp_Avg10', u'Temp_Avg14', u'PrecipTotal1', u'PrecipTotal2', u'PrecipTotal4', u'PrecipTotal7', u'PrecipTotal10', u'PrecipTotal14'] [u'Lat', u'Long', u'AddressAccuracy', u'Duplicated_Rows', u'Species_Fact', u'Trap_Fact', u'Date_Ord', u'Week', u'Year', u'Days_Since_Last_Check', u'Spray_Factor', u'MIFG', u'FG', u'HZ', u'FG+', u'VCFG', u'BCFG', u'DZ', u'SN', u'GR', u'TSRA', u'TS', u'SQ', u'VCTS', u'FU', u'RA', u'BR', u'Temp_Min_both', u'Temp_Max_both', u'Temp_Avg_both', u'Temp_Dew_Point_both', u'Temp_Wet_Bulb_both', u'StnPressure_both', u'Ht_Cool_both', u'Day Length', u'Temp_Min', u'Temp_Max', u'Temp_Avg', u'Temp_Dew_Point', u'StnPressure', u'Day_Length', u'Ht_Cool', u'PrecipTotal', u'Temp_Min1', u'Temp_Min2', u'Temp_Min4', u'Temp_Min7', u'Temp_Min10', u'Temp_Min14', u'Temp_Max1', u'Temp_Max2', u'Temp_Max4', u'Temp_Max7', u'Temp_Max10', u'Temp_Max14', u'Temp_Dew_Point1', u'Temp_Dew_Point2', u'Temp_Dew_Point4', u'Temp_Dew_Point7', u'Temp_Dew_Point10', u'Temp_Dew_Point14', u'Temp_Avg1', u'Temp_Avg2', u'Temp_Avg4', u'Temp_Avg7', u'Temp_Avg10', u'Temp_Avg14', u'PrecipTotal1', u'PrecipTotal2', u'PrecipTotal4', u'PrecipTotal7', u'PrecipTotal10', u'PrecipTotal14', u'Trap_Count', u'Trap_By_Year_Count']\ntraining data did not have the following fields: Week, Duplicated_Rows, Year, Trap_Count, Trap_By_Year_Count"
     ]
    }
   ],
   "source": [
    "pred=xgb1.predict_proba(test)"
   ]
  },
  {
   "cell_type": "code",
   "execution_count": 16,
   "metadata": {},
   "outputs": [
    {
     "data": {
      "text/plain": [
       "array(['Lat', 'Long', 'AddressAccuracy', 'Species_Fact', 'Trap_Fact',\n",
       "       'Date_Ord', 'Days_Since_Last_Check', 'Spray_Factor', 'TSRA', 'DZ',\n",
       "       'BR', 'BCFG', 'SN', 'VCFG', 'RA', 'HZ', 'VCTS', 'FU', 'FG+', 'MIFG',\n",
       "       'SQ', 'GR', 'FG', 'TS', 'Temp_Min_both', 'Temp_Max_both',\n",
       "       'Temp_Avg_both', 'Temp_Dew_Point_both', 'Temp_Wet_Bulb_both',\n",
       "       'StnPressure_both', 'Ht_Cool_both', 'Day Length', 'Temp_Min',\n",
       "       'Temp_Max', 'Temp_Avg', 'Temp_Dew_Point', 'StnPressure',\n",
       "       'Day_Length', 'Ht_Cool', 'PrecipTotal', 'Temp_Min1', 'Temp_Min2',\n",
       "       'Temp_Min4', 'Temp_Min7', 'Temp_Min10', 'Temp_Min14', 'Temp_Max1',\n",
       "       'Temp_Max2', 'Temp_Max4', 'Temp_Max7', 'Temp_Max10', 'Temp_Max14',\n",
       "       'Temp_Dew_Point1', 'Temp_Dew_Point2', 'Temp_Dew_Point4',\n",
       "       'Temp_Dew_Point7', 'Temp_Dew_Point10', 'Temp_Dew_Point14',\n",
       "       'Temp_Avg1', 'Temp_Avg2', 'Temp_Avg4', 'Temp_Avg7', 'Temp_Avg10',\n",
       "       'Temp_Avg14', 'PrecipTotal1', 'PrecipTotal2', 'PrecipTotal4',\n",
       "       'PrecipTotal7', 'PrecipTotal10', 'PrecipTotal14'], dtype=object)"
      ]
     },
     "execution_count": 16,
     "metadata": {},
     "output_type": "execute_result"
    }
   ],
   "source": [
    "train.columns.values"
   ]
  },
  {
   "cell_type": "code",
   "execution_count": 18,
   "metadata": {},
   "outputs": [
    {
     "data": {
      "text/plain": [
       "{'Duplicated_Rows', 'Trap_By_Year_Count', 'Trap_Count', 'Week', 'Year'}"
      ]
     },
     "execution_count": 18,
     "metadata": {},
     "output_type": "execute_result"
    }
   ],
   "source": [
    "set(test.columns) - set(train.columns)"
   ]
  },
  {
   "cell_type": "code",
   "execution_count": 19,
   "metadata": {},
   "outputs": [
    {
     "data": {
      "text/plain": [
       "set()"
      ]
     },
     "execution_count": 19,
     "metadata": {},
     "output_type": "execute_result"
    }
   ],
   "source": [
    "set(train.columns) - set(test.columns)"
   ]
  },
  {
   "cell_type": "code",
   "execution_count": 17,
   "metadata": {},
   "outputs": [
    {
     "data": {
      "text/plain": [
       "array(['Lat', 'Long', 'AddressAccuracy', 'Duplicated_Rows', 'Species_Fact',\n",
       "       'Trap_Fact', 'Date_Ord', 'Week', 'Year', 'Days_Since_Last_Check',\n",
       "       'Spray_Factor', 'MIFG', 'FG', 'HZ', 'FG+', 'VCFG', 'BCFG', 'DZ',\n",
       "       'SN', 'GR', 'TSRA', 'TS', 'SQ', 'VCTS', 'FU', 'RA', 'BR',\n",
       "       'Temp_Min_both', 'Temp_Max_both', 'Temp_Avg_both',\n",
       "       'Temp_Dew_Point_both', 'Temp_Wet_Bulb_both', 'StnPressure_both',\n",
       "       'Ht_Cool_both', 'Day Length', 'Temp_Min', 'Temp_Max', 'Temp_Avg',\n",
       "       'Temp_Dew_Point', 'StnPressure', 'Day_Length', 'Ht_Cool',\n",
       "       'PrecipTotal', 'Temp_Min1', 'Temp_Min2', 'Temp_Min4', 'Temp_Min7',\n",
       "       'Temp_Min10', 'Temp_Min14', 'Temp_Max1', 'Temp_Max2', 'Temp_Max4',\n",
       "       'Temp_Max7', 'Temp_Max10', 'Temp_Max14', 'Temp_Dew_Point1',\n",
       "       'Temp_Dew_Point2', 'Temp_Dew_Point4', 'Temp_Dew_Point7',\n",
       "       'Temp_Dew_Point10', 'Temp_Dew_Point14', 'Temp_Avg1', 'Temp_Avg2',\n",
       "       'Temp_Avg4', 'Temp_Avg7', 'Temp_Avg10', 'Temp_Avg14',\n",
       "       'PrecipTotal1', 'PrecipTotal2', 'PrecipTotal4', 'PrecipTotal7',\n",
       "       'PrecipTotal10', 'PrecipTotal14', 'Trap_Count', 'Trap_By_Year_Count'], dtype=object)"
      ]
     },
     "execution_count": 17,
     "metadata": {},
     "output_type": "execute_result"
    }
   ],
   "source": [
    "test.columns.values"
   ]
  },
  {
   "cell_type": "code",
   "execution_count": null,
   "metadata": {
    "collapsed": true
   },
   "outputs": [],
   "source": []
  }
 ],
 "metadata": {
  "kernelspec": {
   "display_name": "Python 2",
   "language": "python",
   "name": "python2"
  },
  "language_info": {
   "codemirror_mode": {
    "name": "ipython",
    "version": 2
   },
   "file_extension": ".py",
   "mimetype": "text/x-python",
   "name": "python",
   "nbconvert_exporter": "python",
   "pygments_lexer": "ipython2",
   "version": "2.7.13"
  }
 },
 "nbformat": 4,
 "nbformat_minor": 2
}
