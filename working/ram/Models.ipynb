{
 "cells": [
  {
   "cell_type": "code",
   "execution_count": 496,
   "metadata": {
    "collapsed": true
   },
   "outputs": [],
   "source": [
    "import pandas as pd"
   ]
  },
  {
   "cell_type": "code",
   "execution_count": 497,
   "metadata": {
    "collapsed": true
   },
   "outputs": [],
   "source": [
    "train = pd.read_csv('../../input/final/train_final.csv').drop('Unnamed: 0', axis=1)\n",
    "target = pd.read_csv('../../input/final/train_target_final.csv').drop('Unnamed: 0', axis=1).WnvPresent\n",
    "test = pd.read_csv('../../input/final/test_final.csv').drop('Unnamed: 0', axis=1)"
   ]
  },
  {
   "cell_type": "code",
   "execution_count": 498,
   "metadata": {
    "collapsed": true
   },
   "outputs": [],
   "source": [
    "def write_csv(model_name, model):\n",
    "    \n",
    "    model_data = [item[1] for item in model.predict_proba(test)]\n",
    "    \n",
    "    pd.DataFrame(data=model_data).to_csv(model_name + '.csv')\n",
    "    results = pd.read_csv(model_name + '.csv')\n",
    "    results.columns = ['Id', 'WnvPresent']\n",
    "    results.Id = results.Id.apply(lambda x : x + 1)\n",
    "    results.to_csv(model_name + '.csv', index=False)"
   ]
  },
  {
   "cell_type": "code",
   "execution_count": 499,
   "metadata": {},
   "outputs": [
    {
     "data": {
      "text/plain": [
       "(8603, 76)"
      ]
     },
     "execution_count": 499,
     "metadata": {},
     "output_type": "execute_result"
    }
   ],
   "source": [
    "train.shape"
   ]
  },
  {
   "cell_type": "code",
   "execution_count": 500,
   "metadata": {},
   "outputs": [
    {
     "data": {
      "text/plain": [
       "(116293, 76)"
      ]
     },
     "execution_count": 500,
     "metadata": {},
     "output_type": "execute_result"
    }
   ],
   "source": [
    "test.shape"
   ]
  },
  {
   "cell_type": "code",
   "execution_count": 501,
   "metadata": {},
   "outputs": [
    {
     "data": {
      "text/plain": [
       "(8603,)"
      ]
     },
     "execution_count": 501,
     "metadata": {},
     "output_type": "execute_result"
    }
   ],
   "source": [
    "target.shape"
   ]
  },
  {
   "cell_type": "code",
   "execution_count": 502,
   "metadata": {
    "scrolled": true
   },
   "outputs": [
    {
     "name": "stdout",
     "output_type": "stream",
     "text": [
      "<class 'pandas.core.frame.DataFrame'>\n",
      "RangeIndex: 8603 entries, 0 to 8602\n",
      "Data columns (total 76 columns):\n",
      "Lat                      8603 non-null float64\n",
      "Long                     8603 non-null float64\n",
      "AddressAccuracy          8603 non-null int64\n",
      "Duplicated_Rows          8603 non-null int64\n",
      "Species_Fact             8603 non-null int64\n",
      "Trap_Fact                8603 non-null int64\n",
      "Date_Ord                 8603 non-null int64\n",
      "Month                    8603 non-null int64\n",
      "Day                      8603 non-null int64\n",
      "Week                     8603 non-null int64\n",
      "Year                     8603 non-null int64\n",
      "Days_Since_Last_Check    8603 non-null int64\n",
      "Spray_Factor             8603 non-null float64\n",
      "MIFG                     8603 non-null int64\n",
      "FG                       8603 non-null int64\n",
      "HZ                       8603 non-null int64\n",
      "FG+                      8603 non-null int64\n",
      "VCFG                     8603 non-null int64\n",
      "BCFG                     8603 non-null int64\n",
      "DZ                       8603 non-null int64\n",
      "SN                       8603 non-null int64\n",
      "GR                       8603 non-null int64\n",
      "TSRA                     8603 non-null int64\n",
      "TS                       8603 non-null int64\n",
      "SQ                       8603 non-null int64\n",
      "VCTS                     8603 non-null int64\n",
      "FU                       8603 non-null int64\n",
      "RA                       8603 non-null int64\n",
      "BR                       8603 non-null int64\n",
      "Temp_Min_both            8603 non-null float64\n",
      "Temp_Max_both            8603 non-null float64\n",
      "Temp_Avg_both            8603 non-null float64\n",
      "Temp_Dew_Point_both      8603 non-null float64\n",
      "Temp_Wet_Bulb_both       8515 non-null float64\n",
      "StnPressure_both         8515 non-null float64\n",
      "Ht_Cool_both             8603 non-null float64\n",
      "Day Length               8603 non-null int64\n",
      "Temp_Min                 8603 non-null float64\n",
      "Temp_Max                 8603 non-null float64\n",
      "Temp_Avg                 8603 non-null float64\n",
      "Temp_Dew_Point           8603 non-null float64\n",
      "StnPressure              8603 non-null float64\n",
      "Day_Length               8603 non-null float64\n",
      "Ht_Cool                  8603 non-null float64\n",
      "PrecipTotal              8603 non-null float64\n",
      "Temp_Min1                8603 non-null float64\n",
      "Temp_Min2                8603 non-null float64\n",
      "Temp_Min4                8603 non-null float64\n",
      "Temp_Min7                8603 non-null float64\n",
      "Temp_Min10               8603 non-null float64\n",
      "Temp_Min14               8603 non-null float64\n",
      "Temp_Max1                8603 non-null float64\n",
      "Temp_Max2                8603 non-null float64\n",
      "Temp_Max4                8603 non-null float64\n",
      "Temp_Max7                8603 non-null float64\n",
      "Temp_Max10               8603 non-null float64\n",
      "Temp_Max14               8603 non-null float64\n",
      "Temp_Dew_Point1          8603 non-null float64\n",
      "Temp_Dew_Point2          8603 non-null float64\n",
      "Temp_Dew_Point4          8603 non-null float64\n",
      "Temp_Dew_Point7          8603 non-null float64\n",
      "Temp_Dew_Point10         8603 non-null float64\n",
      "Temp_Dew_Point14         8603 non-null float64\n",
      "Temp_Avg1                8603 non-null float64\n",
      "Temp_Avg2                8603 non-null float64\n",
      "Temp_Avg4                8603 non-null float64\n",
      "Temp_Avg7                8603 non-null float64\n",
      "Temp_Avg10               8603 non-null float64\n",
      "Temp_Avg14               8603 non-null float64\n",
      "PrecipTotal1             8603 non-null float64\n",
      "PrecipTotal2             8603 non-null float64\n",
      "PrecipTotal4             8603 non-null float64\n",
      "PrecipTotal7             8603 non-null float64\n",
      "PrecipTotal10            8603 non-null float64\n",
      "PrecipTotal14            8603 non-null float64\n",
      "Trap_Count               8603 non-null int64\n",
      "dtypes: float64(48), int64(28)\n",
      "memory usage: 5.0 MB\n"
     ]
    }
   ],
   "source": [
    "train.info()"
   ]
  },
  {
   "cell_type": "code",
   "execution_count": 503,
   "metadata": {
    "scrolled": true
   },
   "outputs": [
    {
     "name": "stdout",
     "output_type": "stream",
     "text": [
      "<class 'pandas.core.frame.DataFrame'>\n",
      "RangeIndex: 116293 entries, 0 to 116292\n",
      "Data columns (total 76 columns):\n",
      "Lat                      116293 non-null float64\n",
      "Long                     116293 non-null float64\n",
      "AddressAccuracy          116293 non-null int64\n",
      "Duplicated_Rows          116293 non-null int64\n",
      "Species_Fact             116293 non-null int64\n",
      "Trap_Fact                116293 non-null int64\n",
      "Date_Ord                 116293 non-null int64\n",
      "Month                    116293 non-null int64\n",
      "Day                      116293 non-null int64\n",
      "Week                     116293 non-null int64\n",
      "Year                     116293 non-null int64\n",
      "Days_Since_Last_Check    116293 non-null int64\n",
      "Spray_Factor             116293 non-null int64\n",
      "MIFG                     116293 non-null int64\n",
      "FG                       116293 non-null int64\n",
      "HZ                       116293 non-null int64\n",
      "FG+                      116293 non-null int64\n",
      "VCFG                     116293 non-null int64\n",
      "BCFG                     116293 non-null int64\n",
      "DZ                       116293 non-null int64\n",
      "SN                       116293 non-null int64\n",
      "GR                       116293 non-null int64\n",
      "TSRA                     116293 non-null int64\n",
      "TS                       116293 non-null int64\n",
      "SQ                       116293 non-null int64\n",
      "VCTS                     116293 non-null int64\n",
      "FU                       116293 non-null int64\n",
      "RA                       116293 non-null int64\n",
      "BR                       116293 non-null int64\n",
      "Temp_Min_both            116293 non-null float64\n",
      "Temp_Max_both            116293 non-null float64\n",
      "Temp_Avg_both            116293 non-null float64\n",
      "Temp_Dew_Point_both      116293 non-null float64\n",
      "Temp_Wet_Bulb_both       116293 non-null float64\n",
      "StnPressure_both         116293 non-null float64\n",
      "Ht_Cool_both             116293 non-null float64\n",
      "Day Length               116293 non-null int64\n",
      "Temp_Min                 116293 non-null float64\n",
      "Temp_Max                 116293 non-null float64\n",
      "Temp_Avg                 116293 non-null float64\n",
      "Temp_Dew_Point           116293 non-null float64\n",
      "StnPressure              116293 non-null float64\n",
      "Day_Length               116293 non-null float64\n",
      "Ht_Cool                  116293 non-null float64\n",
      "PrecipTotal              116293 non-null float64\n",
      "Temp_Min1                116293 non-null float64\n",
      "Temp_Min2                116293 non-null float64\n",
      "Temp_Min4                116293 non-null float64\n",
      "Temp_Min7                116293 non-null float64\n",
      "Temp_Min10               116293 non-null float64\n",
      "Temp_Min14               116293 non-null float64\n",
      "Temp_Max1                116293 non-null float64\n",
      "Temp_Max2                116293 non-null float64\n",
      "Temp_Max4                116293 non-null float64\n",
      "Temp_Max7                116293 non-null float64\n",
      "Temp_Max10               116293 non-null float64\n",
      "Temp_Max14               116293 non-null float64\n",
      "Temp_Dew_Point1          116293 non-null float64\n",
      "Temp_Dew_Point2          116293 non-null float64\n",
      "Temp_Dew_Point4          116293 non-null float64\n",
      "Temp_Dew_Point7          116293 non-null float64\n",
      "Temp_Dew_Point10         116293 non-null float64\n",
      "Temp_Dew_Point14         116293 non-null float64\n",
      "Temp_Avg1                116293 non-null float64\n",
      "Temp_Avg2                116293 non-null float64\n",
      "Temp_Avg4                116293 non-null float64\n",
      "Temp_Avg7                116293 non-null float64\n",
      "Temp_Avg10               116293 non-null float64\n",
      "Temp_Avg14               116293 non-null float64\n",
      "PrecipTotal1             116293 non-null float64\n",
      "PrecipTotal2             116293 non-null float64\n",
      "PrecipTotal4             116293 non-null float64\n",
      "PrecipTotal7             116293 non-null float64\n",
      "PrecipTotal10            116293 non-null float64\n",
      "PrecipTotal14            116293 non-null float64\n",
      "Trap_Count               116293 non-null int64\n",
      "dtypes: float64(47), int64(29)\n",
      "memory usage: 67.4 MB\n"
     ]
    }
   ],
   "source": [
    "test.info()"
   ]
  },
  {
   "cell_type": "code",
   "execution_count": 504,
   "metadata": {
    "scrolled": true
   },
   "outputs": [],
   "source": [
    "def replace_none(x):\n",
    "    if x == 'NaN':\n",
    "        return -1\n",
    "    return x\n",
    "\n",
    "train.Temp_Wet_Bulb_both = train.Temp_Wet_Bulb_both.apply(replace_none)\n",
    "test.Temp_Wet_Bulb_both = test.Temp_Wet_Bulb_both.apply(replace_none)\n",
    "\n",
    "train.StnPressure_both = train.StnPressure_both.apply(replace_none)\n",
    "test.StnPressure_both = test.StnPressure_both.apply(replace_none)"
   ]
  },
  {
   "cell_type": "code",
   "execution_count": 505,
   "metadata": {
    "collapsed": true
   },
   "outputs": [],
   "source": [
    "train = train.drop(['Day Length'], axis=1)\n",
    "test = test.drop(['Day Length'], axis=1)"
   ]
  },
  {
   "cell_type": "code",
   "execution_count": 506,
   "metadata": {},
   "outputs": [
    {
     "data": {
      "text/plain": [
       "(8603, 75)"
      ]
     },
     "execution_count": 506,
     "metadata": {},
     "output_type": "execute_result"
    }
   ],
   "source": [
    "train.shape"
   ]
  },
  {
   "cell_type": "code",
   "execution_count": 507,
   "metadata": {},
   "outputs": [
    {
     "data": {
      "text/plain": [
       "(116293, 75)"
      ]
     },
     "execution_count": 507,
     "metadata": {},
     "output_type": "execute_result"
    }
   ],
   "source": [
    "test.shape"
   ]
  },
  {
   "cell_type": "markdown",
   "metadata": {},
   "source": [
    "### Random Forests"
   ]
  },
  {
   "cell_type": "code",
   "execution_count": null,
   "metadata": {
    "collapsed": true
   },
   "outputs": [],
   "source": [
    "from sklearn.ensemble import RandomForestClassifier"
   ]
  },
  {
   "cell_type": "code",
   "execution_count": 140,
   "metadata": {
    "collapsed": true
   },
   "outputs": [],
   "source": [
    "clf = RandomForestClassifier()"
   ]
  },
  {
   "cell_type": "code",
   "execution_count": 141,
   "metadata": {},
   "outputs": [
    {
     "data": {
      "text/plain": [
       "RandomForestClassifier(bootstrap=True, class_weight=None, criterion='gini',\n",
       "            max_depth=None, max_features='auto', max_leaf_nodes=None,\n",
       "            min_impurity_split=1e-07, min_samples_leaf=1,\n",
       "            min_samples_split=2, min_weight_fraction_leaf=0.0,\n",
       "            n_estimators=10, n_jobs=1, oob_score=False, random_state=None,\n",
       "            verbose=0, warm_start=False)"
      ]
     },
     "execution_count": 141,
     "metadata": {},
     "output_type": "execute_result"
    }
   ],
   "source": [
    "clf.fit(train, target)"
   ]
  },
  {
   "cell_type": "code",
   "execution_count": 144,
   "metadata": {
    "collapsed": true
   },
   "outputs": [],
   "source": [
    "write_csv('randomforests', clf)"
   ]
  },
  {
   "cell_type": "markdown",
   "metadata": {},
   "source": [
    "### XGBoost"
   ]
  },
  {
   "cell_type": "code",
   "execution_count": 508,
   "metadata": {},
   "outputs": [],
   "source": [
    "import xgboost as xgb\n",
    "import numpy as np\n",
    "from xgboost import plot_importance\n",
    "from xgboost.sklearn import XGBClassifier\n",
    "from sklearn import model_selection, metrics   #Additional scklearn functions\n",
    "from sklearn.grid_search import GridSearchCV   #Perforing grid search\n",
    "from sklearn.model_selection import KFold\n",
    "from sklearn.model_selection import cross_val_score\n",
    "from sklearn.metrics import roc_auc_score"
   ]
  },
  {
   "cell_type": "code",
   "execution_count": 509,
   "metadata": {
    "collapsed": true
   },
   "outputs": [],
   "source": [
    "etas = [0.01, 0.05, 0.08, 0.1, 0.12, 0.15, 0.18, 0.2]"
   ]
  },
  {
   "cell_type": "code",
   "execution_count": 510,
   "metadata": {},
   "outputs": [],
   "source": [
    "xgb1 = XGBClassifier(learning_rate=0.2, seed=42, silent=1) # 0.2 best so far"
   ]
  },
  {
   "cell_type": "code",
   "execution_count": 511,
   "metadata": {
    "collapsed": true
   },
   "outputs": [],
   "source": [
    "parameters = {'nthread':[4], #when use hyperthread, xgboost may become slower\n",
    "              'objective':['binary:logistic'],\n",
    "              'learning_rate': [2], #so called `eta` value\n",
    "              'max_depth': [2,3,4,6],\n",
    "              'min_child_weight': [1,2,3],\n",
    "              'silent': [1],\n",
    "              'subsample': [0.6, 0.8, 1],\n",
    "              'colsample_bytree': [0.8],\n",
    "              'n_estimators': [100], #number of trees, change it to 1000 for better results\n",
    "              'missing':[-999],\n",
    "              'seed': [42],\n",
    "              'reg_lambda': [0.8, 1, 1.2]}"
   ]
  },
  {
   "cell_type": "code",
   "execution_count": 512,
   "metadata": {},
   "outputs": [
    {
     "data": {
      "text/plain": [
       "XGBClassifier(base_score=0.5, booster='gbtree', colsample_bylevel=1,\n",
       "       colsample_bytree=1, gamma=0, learning_rate=0.2, max_delta_step=0,\n",
       "       max_depth=3, min_child_weight=1, missing=None, n_estimators=100,\n",
       "       n_jobs=1, nthread=None, objective='binary:logistic', random_state=0,\n",
       "       reg_alpha=0, reg_lambda=1, scale_pos_weight=1, seed=42, silent=1,\n",
       "       subsample=1)"
      ]
     },
     "execution_count": 512,
     "metadata": {},
     "output_type": "execute_result"
    }
   ],
   "source": [
    "xgb1.fit(train, target)"
   ]
  },
  {
   "cell_type": "code",
   "execution_count": 513,
   "metadata": {},
   "outputs": [
    {
     "name": "stdout",
     "output_type": "stream",
     "text": [
      "[ 0.09913044  0.09043478  0.00869565  0.08869565  0.05391304  0.07130435\n",
      "  0.07652174  0.00695652  0.00347826  0.01043478  0.          0.00695652\n",
      "  0.06608696  0.          0.          0.          0.          0.          0.\n",
      "  0.00173913  0.          0.          0.          0.          0.          0.\n",
      "  0.          0.          0.          0.00695652  0.01391304  0.00695652\n",
      "  0.01043478  0.00173913  0.01565217  0.00521739  0.          0.          0.\n",
      "  0.          0.          0.06608696  0.          0.00347826  0.00521739\n",
      "  0.00173913  0.00695652  0.00173913  0.00173913  0.00695652  0.00347826\n",
      "  0.00347826  0.01043478  0.01391304  0.01391304  0.00173913  0.02086957\n",
      "  0.00521739  0.00869565  0.00173913  0.00521739  0.01565217  0.          0.\n",
      "  0.0173913   0.00173913  0.00521739  0.01565217  0.00173913  0.01043478\n",
      "  0.00695652  0.00869565  0.00173913  0.01043478  0.07652174]\n"
     ]
    }
   ],
   "source": [
    "print(xgb1.feature_importances_)"
   ]
  },
  {
   "cell_type": "code",
   "execution_count": 514,
   "metadata": {
    "collapsed": true
   },
   "outputs": [],
   "source": [
    "from matplotlib import pyplot as plt"
   ]
  },
  {
   "cell_type": "code",
   "execution_count": 515,
   "metadata": {},
   "outputs": [
    {
     "data": {
      "image/png": "[encoded data removed]",
      "text/plain": [
       "<matplotlib.figure.Figure at 0x115314630>"
      ]
     },
     "metadata": {},
     "output_type": "display_data"
    }
   ],
   "source": [
    "# plot feature importance\n",
    "fig, ax = plt.subplots(figsize=(10, 15))\n",
    "plot_importance(xgb1, ax=ax)\n",
    "plt.show()"
   ]
  },
  {
   "cell_type": "code",
   "execution_count": 516,
   "metadata": {
    "collapsed": true
   },
   "outputs": [],
   "source": [
    "write_csv('xgboost', xgb1)"
   ]
  },
  {
   "cell_type": "markdown",
   "metadata": {},
   "source": [
    "### Neural Net - Lasagne"
   ]
  },
  {
   "cell_type": "code",
   "execution_count": 314,
   "metadata": {},
   "outputs": [],
   "source": [
    "from lasagne.layers import InputLayer, DropoutLayer, DenseLayer\n",
    "from lasagne.updates import nesterov_momentum\n",
    "from lasagne.objectives import binary_crossentropy\n",
    "from nolearn.lasagne import NeuralNet\n",
    "import theano\n",
    "from theano import tensor as T\n",
    "from theano.tensor.nnet import sigmoid\n",
    "from sklearn import metrics\n",
    "from sklearn.utils import shuffle"
   ]
  },
  {
   "cell_type": "code",
   "execution_count": 318,
   "metadata": {
    "collapsed": true
   },
   "outputs": [],
   "source": [
    "class AdjustVariable(object):\n",
    "    def __init__(self, variable, target, half_life=20):\n",
    "        self.variable = variable\n",
    "        self.target = target\n",
    "        self.half_life = half_life\n",
    "    def __call__(self, nn, train_history):\n",
    "        delta = self.variable.get_value() - self.target\n",
    "        delta /= 2**(1.0/self.half_life)\n",
    "        self.variable.set_value(np.float32(self.target + delta))"
   ]
  },
  {
   "cell_type": "code",
   "execution_count": 322,
   "metadata": {
    "collapsed": true
   },
   "outputs": [],
   "source": [
    "X = train.values.astype(np.int32)\n",
    "y = target.values.astype(np.int32)"
   ]
  },
  {
   "cell_type": "code",
   "execution_count": 324,
   "metadata": {},
   "outputs": [],
   "source": [
    "input_size = len(X[0])\n",
    "\n",
    "learning_rate = theano.shared(np.float32(0.1))\n",
    "\n",
    "net = NeuralNet(\n",
    "layers=[  \n",
    "    ('input', InputLayer),\n",
    "     ('hidden1', DenseLayer),\n",
    "    ('dropout1', DropoutLayer),\n",
    "    ('hidden2', DenseLayer),\n",
    "    ('dropout2', DropoutLayer),\n",
    "    ('output', DenseLayer),\n",
    "    ],\n",
    "    # layer parameters:\n",
    "    input_shape=(None, input_size), \n",
    "    hidden1_num_units=256, \n",
    "    dropout1_p=0.4,\n",
    "    hidden2_num_units=256, \n",
    "    dropout2_p=0.4,\n",
    "    output_nonlinearity=sigmoid, \n",
    "    output_num_units=1, \n",
    "\n",
    "    # optimization method:\n",
    "    update=nesterov_momentum,\n",
    "    update_learning_rate=learning_rate,\n",
    "    update_momentum=0.9,\n",
    "\n",
    "    # Decay the learning rate\n",
    "    on_epoch_finished=[\n",
    "            AdjustVariable(learning_rate, target=0, half_life=4),\n",
    "            ],\n",
    "\n",
    "    # This is silly, but we don't want a stratified K-Fold here\n",
    "    # To compensate we need to pass in the y_tensor_type and the loss.\n",
    "    regression=True,\n",
    "    y_tensor_type = T.imatrix,\n",
    "    objective_loss_function = binary_crossentropy,\n",
    "\n",
    "    max_epochs=32, \n",
    "    train_split=0.1,\n",
    "    verbose=1,\n",
    "    )"
   ]
  },
  {
   "cell_type": "code",
   "execution_count": 325,
   "metadata": {},
   "outputs": [
    {
     "ename": "NameError",
     "evalue": "name 'fit' is not defined",
     "output_type": "error",
     "traceback": [
      "\u001b[0;31m---------------------------------------------------------------------------\u001b[0m",
      "\u001b[0;31mNameError\u001b[0m                                 Traceback (most recent call last)",
      "\u001b[0;32m<ipython-input-325-6cd8fa580c99>\u001b[0m in \u001b[0;36m<module>\u001b[0;34m()\u001b[0m\n\u001b[0;32m----> 1\u001b[0;31m \u001b[0mnet\u001b[0m \u001b[0;34m=\u001b[0m \u001b[0mfit\u001b[0m\u001b[0;34m(\u001b[0m\u001b[0mtrain\u001b[0m\u001b[0;34m,\u001b[0m \u001b[0mtarget\u001b[0m\u001b[0;34m)\u001b[0m\u001b[0;34m\u001b[0m\u001b[0m\n\u001b[0m",
      "\u001b[0;31mNameError\u001b[0m: name 'fit' is not defined"
     ]
    }
   ],
   "source": [
    "net = fit(train, target)"
   ]
  },
  {
   "cell_type": "code",
   "execution_count": null,
   "metadata": {
    "collapsed": true
   },
   "outputs": [],
   "source": [
    "probas = net.predict_proba(train)\n",
    "print(\"ROC score\", metrics.roc_auc_score(y_valid, probas))"
   ]
  },
  {
   "cell_type": "code",
   "execution_count": null,
   "metadata": {
    "collapsed": true
   },
   "outputs": [],
   "source": []
  },
  {
   "cell_type": "code",
   "execution_count": null,
   "metadata": {
    "collapsed": true
   },
   "outputs": [],
   "source": []
  },
  {
   "cell_type": "code",
   "execution_count": null,
   "metadata": {
    "collapsed": true
   },
   "outputs": [],
   "source": []
  },
  {
   "cell_type": "code",
   "execution_count": null,
   "metadata": {
    "collapsed": true
   },
   "outputs": [],
   "source": []
  },
  {
   "cell_type": "code",
   "execution_count": 266,
   "metadata": {
    "collapsed": true
   },
   "outputs": [],
   "source": [
    "write_csv('lasagne', net)"
   ]
  },
  {
   "cell_type": "code",
   "execution_count": null,
   "metadata": {},
   "outputs": [],
   "source": []
  },
  {
   "cell_type": "code",
   "execution_count": null,
   "metadata": {
    "collapsed": true
   },
   "outputs": [],
   "source": []
  },
  {
   "cell_type": "code",
   "execution_count": null,
   "metadata": {
    "collapsed": true
   },
   "outputs": [],
   "source": []
  },
  {
   "cell_type": "markdown",
   "metadata": {},
   "source": [
    "### Neural Net - Keras"
   ]
  },
  {
   "cell_type": "code",
   "execution_count": 415,
   "metadata": {
    "collapsed": true
   },
   "outputs": [],
   "source": [
    "import numpy as np\n",
    "from keras.models import Sequential\n",
    "from keras.layers.core import Dense, Dropout, Activation\n",
    "from keras.utils import np_utils\n",
    "from sklearn.preprocessing import StandardScaler\n",
    "from keras.utils.np_utils import to_categorical\n",
    "from keras import optimizers"
   ]
  },
  {
   "cell_type": "code",
   "execution_count": 416,
   "metadata": {
    "collapsed": true
   },
   "outputs": [],
   "source": [
    "X = train.values\n",
    "y = target.values"
   ]
  },
  {
   "cell_type": "code",
   "execution_count": 417,
   "metadata": {
    "collapsed": true
   },
   "outputs": [],
   "source": [
    "model = Sequential()"
   ]
  },
  {
   "cell_type": "code",
   "execution_count": 418,
   "metadata": {
    "collapsed": true
   },
   "outputs": [],
   "source": [
    "model.add(Dense(32, input_shape=(train.shape[1],)))\n",
    "model.add(Activation('relu'))\n",
    "model.add(Dropout(0.5))\n",
    "\n",
    "model.add(Dense(32))\n",
    "model.add(Activation('sigmoid'))\n",
    "model.add(Dropout(0.5))\n",
    "\n",
    "model.add(Dense(output_dim))\n",
    "model.add(Activation('softmax'))"
   ]
  },
  {
   "cell_type": "code",
   "execution_count": 419,
   "metadata": {
    "collapsed": true
   },
   "outputs": [],
   "source": [
    "# model.compile(optimizer='rmsprop',\n",
    "#               loss='binary_crossentropy')\n",
    "\n",
    "model.compile(loss='binary_crossentropy', optimizer='adam', metrics=['accuracy'])"
   ]
  },
  {
   "cell_type": "code",
   "execution_count": 420,
   "metadata": {},
   "outputs": [
    {
     "name": "stdout",
     "output_type": "stream",
     "text": [
      "Epoch 1/100\n",
      "8603/8603 [==============================] - 0s - loss: 15.0955 - acc: 0.0531     \n",
      "Epoch 2/100\n",
      "8603/8603 [==============================] - 0s - loss: 15.0955 - acc: 0.0531     \n",
      "Epoch 3/100\n",
      "8603/8603 [==============================] - 0s - loss: 15.0955 - acc: 0.0531     \n",
      "Epoch 4/100\n",
      "8603/8603 [==============================] - 0s - loss: 15.0955 - acc: 0.0531     \n",
      "Epoch 5/100\n",
      "8603/8603 [==============================] - 0s - loss: 15.0955 - acc: 0.0531     \n",
      "Epoch 6/100\n",
      "8603/8603 [==============================] - 0s - loss: 15.0955 - acc: 0.0531     \n",
      "Epoch 7/100\n",
      "8603/8603 [==============================] - 0s - loss: 15.0955 - acc: 0.0531     \n",
      "Epoch 8/100\n",
      "8603/8603 [==============================] - 0s - loss: 15.0955 - acc: 0.0531     \n",
      "Epoch 9/100\n",
      "8603/8603 [==============================] - 0s - loss: 15.0955 - acc: 0.0531     \n",
      "Epoch 10/100\n",
      "8603/8603 [==============================] - 0s - loss: 15.0955 - acc: 0.0531     \n",
      "Epoch 11/100\n",
      "8603/8603 [==============================] - 0s - loss: 15.0955 - acc: 0.0531     \n",
      "Epoch 12/100\n",
      "8603/8603 [==============================] - 0s - loss: 15.0955 - acc: 0.0531     \n",
      "Epoch 13/100\n",
      "8603/8603 [==============================] - 0s - loss: 15.0955 - acc: 0.0531     \n",
      "Epoch 14/100\n",
      "8603/8603 [==============================] - 0s - loss: 15.0955 - acc: 0.0531     \n",
      "Epoch 15/100\n",
      "8603/8603 [==============================] - 0s - loss: 15.0955 - acc: 0.0531     \n",
      "Epoch 16/100\n",
      "8603/8603 [==============================] - 0s - loss: 15.0955 - acc: 0.0531     \n",
      "Epoch 17/100\n",
      "8603/8603 [==============================] - 0s - loss: 15.0955 - acc: 0.0531     \n",
      "Epoch 18/100\n",
      "8603/8603 [==============================] - 0s - loss: 15.0955 - acc: 0.0531     \n",
      "Epoch 19/100\n",
      "8603/8603 [==============================] - 0s - loss: 15.0955 - acc: 0.0531     \n",
      "Epoch 20/100\n",
      "8603/8603 [==============================] - 0s - loss: 15.0955 - acc: 0.0531     \n",
      "Epoch 21/100\n",
      "8603/8603 [==============================] - 0s - loss: 15.0955 - acc: 0.0531     \n",
      "Epoch 22/100\n",
      "8603/8603 [==============================] - 0s - loss: 15.0955 - acc: 0.0531     \n",
      "Epoch 23/100\n",
      "8603/8603 [==============================] - 0s - loss: 15.0955 - acc: 0.0531     \n",
      "Epoch 24/100\n",
      "8603/8603 [==============================] - 0s - loss: 15.0955 - acc: 0.0531     \n",
      "Epoch 25/100\n",
      "8603/8603 [==============================] - 0s - loss: 15.0955 - acc: 0.0531     \n",
      "Epoch 26/100\n",
      "8603/8603 [==============================] - 0s - loss: 15.0955 - acc: 0.0531     \n",
      "Epoch 27/100\n",
      "8603/8603 [==============================] - 0s - loss: 15.0955 - acc: 0.0531     \n",
      "Epoch 28/100\n",
      "8603/8603 [==============================] - 0s - loss: 15.0955 - acc: 0.0531     \n",
      "Epoch 29/100\n",
      "8603/8603 [==============================] - 0s - loss: 15.0955 - acc: 0.0531     \n",
      "Epoch 30/100\n",
      "8603/8603 [==============================] - 0s - loss: 15.0955 - acc: 0.0531     \n",
      "Epoch 31/100\n",
      "8603/8603 [==============================] - 0s - loss: 15.0955 - acc: 0.0531     \n",
      "Epoch 32/100\n",
      "8603/8603 [==============================] - 0s - loss: 15.0955 - acc: 0.0531     \n",
      "Epoch 33/100\n",
      "8603/8603 [==============================] - 0s - loss: 15.0955 - acc: 0.0531     \n",
      "Epoch 34/100\n",
      "8603/8603 [==============================] - 0s - loss: 15.0955 - acc: 0.0531     \n",
      "Epoch 35/100\n",
      "8603/8603 [==============================] - 0s - loss: 15.0955 - acc: 0.0531     \n",
      "Epoch 36/100\n",
      "8603/8603 [==============================] - 0s - loss: 15.0955 - acc: 0.0531     \n",
      "Epoch 37/100\n",
      "8603/8603 [==============================] - 0s - loss: 15.0955 - acc: 0.0531     \n",
      "Epoch 38/100\n",
      "8603/8603 [==============================] - 0s - loss: 15.0955 - acc: 0.0531     \n",
      "Epoch 39/100\n",
      "8603/8603 [==============================] - 0s - loss: 15.0955 - acc: 0.0531     \n",
      "Epoch 40/100\n",
      "8603/8603 [==============================] - 0s - loss: 15.0955 - acc: 0.0531     \n",
      "Epoch 41/100\n",
      "8603/8603 [==============================] - 0s - loss: 15.0955 - acc: 0.0531     \n",
      "Epoch 42/100\n",
      "8603/8603 [==============================] - 0s - loss: 15.0955 - acc: 0.0531     \n",
      "Epoch 43/100\n",
      "8603/8603 [==============================] - 0s - loss: 15.0955 - acc: 0.0531     \n",
      "Epoch 44/100\n",
      "8603/8603 [==============================] - 0s - loss: 15.0955 - acc: 0.0531     \n",
      "Epoch 45/100\n",
      "8603/8603 [==============================] - 0s - loss: 15.0955 - acc: 0.0531     \n",
      "Epoch 46/100\n",
      "8603/8603 [==============================] - 0s - loss: 15.0955 - acc: 0.0531     \n",
      "Epoch 47/100\n",
      "8272/8603 [===========================>..] - ETA: 0s - loss: 15.0886 - acc: 0.0536"
     ]
    },
    {
     "ename": "KeyboardInterrupt",
     "evalue": "",
     "output_type": "error",
     "traceback": [
      "\u001b[0;31m---------------------------------------------------------------------------\u001b[0m",
      "\u001b[0;31mKeyboardInterrupt\u001b[0m                         Traceback (most recent call last)",
      "\u001b[0;32m<ipython-input-420-c06065d03a71>\u001b[0m in \u001b[0;36m<module>\u001b[0;34m()\u001b[0m\n\u001b[0;32m----> 1\u001b[0;31m \u001b[0mmodel\u001b[0m\u001b[0;34m.\u001b[0m\u001b[0mfit\u001b[0m\u001b[0;34m(\u001b[0m\u001b[0mX\u001b[0m\u001b[0;34m,\u001b[0m \u001b[0my\u001b[0m\u001b[0;34m,\u001b[0m \u001b[0mepochs\u001b[0m\u001b[0;34m=\u001b[0m\u001b[0;36m100\u001b[0m\u001b[0;34m,\u001b[0m \u001b[0mbatch_size\u001b[0m\u001b[0;34m=\u001b[0m\u001b[0;36m16\u001b[0m\u001b[0;34m)\u001b[0m\u001b[0;34m\u001b[0m\u001b[0m\n\u001b[0m",
      "\u001b[0;32m~/anaconda3/lib/python3.6/site-packages/keras/models.py\u001b[0m in \u001b[0;36mfit\u001b[0;34m(self, x, y, batch_size, epochs, verbose, callbacks, validation_split, validation_data, shuffle, class_weight, sample_weight, initial_epoch, **kwargs)\u001b[0m\n\u001b[1;32m    861\u001b[0m                               \u001b[0mclass_weight\u001b[0m\u001b[0;34m=\u001b[0m\u001b[0mclass_weight\u001b[0m\u001b[0;34m,\u001b[0m\u001b[0;34m\u001b[0m\u001b[0m\n\u001b[1;32m    862\u001b[0m                               \u001b[0msample_weight\u001b[0m\u001b[0;34m=\u001b[0m\u001b[0msample_weight\u001b[0m\u001b[0;34m,\u001b[0m\u001b[0;34m\u001b[0m\u001b[0m\n\u001b[0;32m--> 863\u001b[0;31m                               initial_epoch=initial_epoch)\n\u001b[0m\u001b[1;32m    864\u001b[0m \u001b[0;34m\u001b[0m\u001b[0m\n\u001b[1;32m    865\u001b[0m     def evaluate(self, x, y, batch_size=32, verbose=1,\n",
      "\u001b[0;32m~/anaconda3/lib/python3.6/site-packages/keras/engine/training.py\u001b[0m in \u001b[0;36mfit\u001b[0;34m(self, x, y, batch_size, epochs, verbose, callbacks, validation_split, validation_data, shuffle, class_weight, sample_weight, initial_epoch, **kwargs)\u001b[0m\n\u001b[1;32m   1428\u001b[0m                               \u001b[0mval_f\u001b[0m\u001b[0;34m=\u001b[0m\u001b[0mval_f\u001b[0m\u001b[0;34m,\u001b[0m \u001b[0mval_ins\u001b[0m\u001b[0;34m=\u001b[0m\u001b[0mval_ins\u001b[0m\u001b[0;34m,\u001b[0m \u001b[0mshuffle\u001b[0m\u001b[0;34m=\u001b[0m\u001b[0mshuffle\u001b[0m\u001b[0;34m,\u001b[0m\u001b[0;34m\u001b[0m\u001b[0m\n\u001b[1;32m   1429\u001b[0m                               \u001b[0mcallback_metrics\u001b[0m\u001b[0;34m=\u001b[0m\u001b[0mcallback_metrics\u001b[0m\u001b[0;34m,\u001b[0m\u001b[0;34m\u001b[0m\u001b[0m\n\u001b[0;32m-> 1430\u001b[0;31m                               initial_epoch=initial_epoch)\n\u001b[0m\u001b[1;32m   1431\u001b[0m \u001b[0;34m\u001b[0m\u001b[0m\n\u001b[1;32m   1432\u001b[0m     \u001b[0;32mdef\u001b[0m \u001b[0mevaluate\u001b[0m\u001b[0;34m(\u001b[0m\u001b[0mself\u001b[0m\u001b[0;34m,\u001b[0m \u001b[0mx\u001b[0m\u001b[0;34m,\u001b[0m \u001b[0my\u001b[0m\u001b[0;34m,\u001b[0m \u001b[0mbatch_size\u001b[0m\u001b[0;34m=\u001b[0m\u001b[0;36m32\u001b[0m\u001b[0;34m,\u001b[0m \u001b[0mverbose\u001b[0m\u001b[0;34m=\u001b[0m\u001b[0;36m1\u001b[0m\u001b[0;34m,\u001b[0m \u001b[0msample_weight\u001b[0m\u001b[0;34m=\u001b[0m\u001b[0;32mNone\u001b[0m\u001b[0;34m)\u001b[0m\u001b[0;34m:\u001b[0m\u001b[0;34m\u001b[0m\u001b[0m\n",
      "\u001b[0;32m~/anaconda3/lib/python3.6/site-packages/keras/engine/training.py\u001b[0m in \u001b[0;36m_fit_loop\u001b[0;34m(self, f, ins, out_labels, batch_size, epochs, verbose, callbacks, val_f, val_ins, shuffle, callback_metrics, initial_epoch)\u001b[0m\n\u001b[1;32m   1076\u001b[0m                 \u001b[0mbatch_logs\u001b[0m\u001b[0;34m[\u001b[0m\u001b[0;34m'batch'\u001b[0m\u001b[0;34m]\u001b[0m \u001b[0;34m=\u001b[0m \u001b[0mbatch_index\u001b[0m\u001b[0;34m\u001b[0m\u001b[0m\n\u001b[1;32m   1077\u001b[0m                 \u001b[0mbatch_logs\u001b[0m\u001b[0;34m[\u001b[0m\u001b[0;34m'size'\u001b[0m\u001b[0;34m]\u001b[0m \u001b[0;34m=\u001b[0m \u001b[0mlen\u001b[0m\u001b[0;34m(\u001b[0m\u001b[0mbatch_ids\u001b[0m\u001b[0;34m)\u001b[0m\u001b[0;34m\u001b[0m\u001b[0m\n\u001b[0;32m-> 1078\u001b[0;31m                 \u001b[0mcallbacks\u001b[0m\u001b[0;34m.\u001b[0m\u001b[0mon_batch_begin\u001b[0m\u001b[0;34m(\u001b[0m\u001b[0mbatch_index\u001b[0m\u001b[0;34m,\u001b[0m \u001b[0mbatch_logs\u001b[0m\u001b[0;34m)\u001b[0m\u001b[0;34m\u001b[0m\u001b[0m\n\u001b[0m\u001b[1;32m   1079\u001b[0m                 \u001b[0mouts\u001b[0m \u001b[0;34m=\u001b[0m \u001b[0mf\u001b[0m\u001b[0;34m(\u001b[0m\u001b[0mins_batch\u001b[0m\u001b[0;34m)\u001b[0m\u001b[0;34m\u001b[0m\u001b[0m\n\u001b[1;32m   1080\u001b[0m                 \u001b[0;32mif\u001b[0m \u001b[0;32mnot\u001b[0m \u001b[0misinstance\u001b[0m\u001b[0;34m(\u001b[0m\u001b[0mouts\u001b[0m\u001b[0;34m,\u001b[0m \u001b[0mlist\u001b[0m\u001b[0;34m)\u001b[0m\u001b[0;34m:\u001b[0m\u001b[0;34m\u001b[0m\u001b[0m\n",
      "\u001b[0;31mKeyboardInterrupt\u001b[0m: "
     ]
    }
   ],
   "source": [
    "model.fit(X, y, epochs=100, batch_size=16)"
   ]
  },
  {
   "cell_type": "code",
   "execution_count": 381,
   "metadata": {},
   "outputs": [
    {
     "name": "stdout",
     "output_type": "stream",
     "text": [
      "111520/116293 [===========================>..] - ETA: 0s"
     ]
    }
   ],
   "source": [
    "model_data = [item[0] for item in model.predict_proba(test.as_matrix())]\n",
    "model_name = 'keras'\n",
    "\n",
    "pd.DataFrame(data=model_data).to_csv(model_name + '.csv')\n",
    "results = pd.read_csv(model_name + '.csv')\n",
    "results.columns = ['Id', 'WnvPresent']\n",
    "results.Id = results.Id.apply(lambda x : x + 1)\n",
    "results.to_csv(model_name + '.csv', index=False)"
   ]
  }
 ],
 "metadata": {
  "kernelspec": {
   "display_name": "Python 3",
   "language": "python",
   "name": "python3"
  },
  "language_info": {
   "codemirror_mode": {
    "name": "ipython",
    "version": 3
   },
   "file_extension": ".py",
   "mimetype": "text/x-python",
   "name": "python",
   "nbconvert_exporter": "python",
   "pygments_lexer": "ipython3",
   "version": "3.6.1"
  }
 },
 "nbformat": 4,
 "nbformat_minor": 2
}
