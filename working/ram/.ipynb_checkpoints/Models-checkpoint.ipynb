{
 "cells": [
  {
   "cell_type": "code",
   "execution_count": 101,
   "metadata": {
    "collapsed": true
   },
   "outputs": [],
   "source": [
    "import pandas as pd\n",
    "from sklearn.ensemble import RandomForestClassifier"
   ]
  },
  {
   "cell_type": "code",
   "execution_count": 102,
   "metadata": {},
   "outputs": [],
   "source": [
    "train = pd.read_csv('../../input/final/train_final.csv').drop('Unnamed: 0', axis=1)\n",
    "target = pd.read_csv('../../input/final/train_target_final.csv').drop('Unnamed: 0', axis=1).WnvPresent\n",
    "test = pd.read_csv('../../input/final/test_final.csv').drop('Unnamed: 0', axis=1)"
   ]
  },
  {
   "cell_type": "code",
   "execution_count": 143,
   "metadata": {
    "collapsed": true
   },
   "outputs": [],
   "source": [
    "def write_csv(model_name, model):\n",
    "    \n",
    "    model_data = [item[1] for item in model.predict_proba(test)]\n",
    "    \n",
    "    pd.DataFrame(data=model_data).to_csv(model_name + '.csv')\n",
    "    results = pd.read_csv(model_name + '.csv')\n",
    "    results.columns = ['Id', 'WnvPresent']\n",
    "    results.Id = results.Id.apply(lambda x : x + 1)\n",
    "    results.to_csv(model_name + '.csv', index=False)"
   ]
  },
  {
   "cell_type": "code",
   "execution_count": 103,
   "metadata": {},
   "outputs": [
    {
     "data": {
      "text/plain": [
       "(8603, 70)"
      ]
     },
     "execution_count": 103,
     "metadata": {},
     "output_type": "execute_result"
    }
   ],
   "source": [
    "train.shape"
   ]
  },
  {
   "cell_type": "code",
   "execution_count": 104,
   "metadata": {},
   "outputs": [
    {
     "data": {
      "text/plain": [
       "(116293, 70)"
      ]
     },
     "execution_count": 104,
     "metadata": {},
     "output_type": "execute_result"
    }
   ],
   "source": [
    "test.shape"
   ]
  },
  {
   "cell_type": "code",
   "execution_count": 105,
   "metadata": {},
   "outputs": [
    {
     "data": {
      "text/plain": [
       "(8603,)"
      ]
     },
     "execution_count": 105,
     "metadata": {},
     "output_type": "execute_result"
    }
   ],
   "source": [
    "target.shape"
   ]
  },
  {
   "cell_type": "code",
   "execution_count": 106,
   "metadata": {
    "scrolled": true
   },
   "outputs": [
    {
     "name": "stdout",
     "output_type": "stream",
     "text": [
      "<class 'pandas.core.frame.DataFrame'>\n",
      "RangeIndex: 8603 entries, 0 to 8602\n",
      "Data columns (total 70 columns):\n",
      "Lat                      8603 non-null float64\n",
      "Long                     8603 non-null float64\n",
      "AddressAccuracy          8603 non-null int64\n",
      "Species_Fact             8603 non-null int64\n",
      "Trap_Fact                8603 non-null int64\n",
      "Date_Ord                 8603 non-null int64\n",
      "Days_Since_Last_Check    8603 non-null int64\n",
      "Spray_Factor             8603 non-null float64\n",
      "TSRA                     8603 non-null int64\n",
      "DZ                       8603 non-null int64\n",
      "BR                       8603 non-null int64\n",
      "BCFG                     8603 non-null int64\n",
      "SN                       8603 non-null int64\n",
      "VCFG                     8603 non-null int64\n",
      "RA                       8603 non-null int64\n",
      "HZ                       8603 non-null int64\n",
      "VCTS                     8603 non-null int64\n",
      "FU                       8603 non-null int64\n",
      "FG+                      8603 non-null int64\n",
      "MIFG                     8603 non-null int64\n",
      "SQ                       8603 non-null int64\n",
      "GR                       8603 non-null int64\n",
      "FG                       8603 non-null int64\n",
      "TS                       8603 non-null int64\n",
      "Temp_Min_both            8603 non-null float64\n",
      "Temp_Max_both            8603 non-null float64\n",
      "Temp_Avg_both            8603 non-null float64\n",
      "Temp_Dew_Point_both      8603 non-null float64\n",
      "Temp_Wet_Bulb_both       8515 non-null float64\n",
      "StnPressure_both         8515 non-null float64\n",
      "Ht_Cool_both             8603 non-null float64\n",
      "Day Length               8603 non-null int64\n",
      "Temp_Min                 8603 non-null float64\n",
      "Temp_Max                 8603 non-null float64\n",
      "Temp_Avg                 8603 non-null float64\n",
      "Temp_Dew_Point           8603 non-null float64\n",
      "StnPressure              8603 non-null float64\n",
      "Day_Length               8603 non-null float64\n",
      "Ht_Cool                  8603 non-null float64\n",
      "PrecipTotal              8603 non-null float64\n",
      "Temp_Min1                8603 non-null float64\n",
      "Temp_Min2                8603 non-null float64\n",
      "Temp_Min4                8603 non-null float64\n",
      "Temp_Min7                8603 non-null float64\n",
      "Temp_Min10               8603 non-null float64\n",
      "Temp_Min14               8603 non-null float64\n",
      "Temp_Max1                8603 non-null float64\n",
      "Temp_Max2                8603 non-null float64\n",
      "Temp_Max4                8603 non-null float64\n",
      "Temp_Max7                8603 non-null float64\n",
      "Temp_Max10               8603 non-null float64\n",
      "Temp_Max14               8603 non-null float64\n",
      "Temp_Dew_Point1          8603 non-null float64\n",
      "Temp_Dew_Point2          8603 non-null float64\n",
      "Temp_Dew_Point4          8603 non-null float64\n",
      "Temp_Dew_Point7          8603 non-null float64\n",
      "Temp_Dew_Point10         8603 non-null float64\n",
      "Temp_Dew_Point14         8603 non-null float64\n",
      "Temp_Avg1                8603 non-null float64\n",
      "Temp_Avg2                8603 non-null float64\n",
      "Temp_Avg4                8603 non-null float64\n",
      "Temp_Avg7                8603 non-null float64\n",
      "Temp_Avg10               8603 non-null float64\n",
      "Temp_Avg14               8603 non-null float64\n",
      "PrecipTotal1             8603 non-null float64\n",
      "PrecipTotal2             8603 non-null float64\n",
      "PrecipTotal4             8603 non-null float64\n",
      "PrecipTotal7             8603 non-null float64\n",
      "PrecipTotal10            8603 non-null float64\n",
      "PrecipTotal14            8603 non-null float64\n",
      "dtypes: float64(48), int64(22)\n",
      "memory usage: 4.6 MB\n"
     ]
    }
   ],
   "source": [
    "train.info()"
   ]
  },
  {
   "cell_type": "code",
   "execution_count": 107,
   "metadata": {
    "scrolled": true
   },
   "outputs": [
    {
     "name": "stdout",
     "output_type": "stream",
     "text": [
      "<class 'pandas.core.frame.DataFrame'>\n",
      "RangeIndex: 116293 entries, 0 to 116292\n",
      "Data columns (total 70 columns):\n",
      "Lat                      116293 non-null float64\n",
      "Long                     116293 non-null float64\n",
      "AddressAccuracy          116293 non-null int64\n",
      "Species_Fact             116293 non-null int64\n",
      "Trap_Fact                116293 non-null int64\n",
      "Date_Ord                 116293 non-null int64\n",
      "Days_Since_Last_Check    116293 non-null int64\n",
      "Spray_Factor             116293 non-null int64\n",
      "TSRA                     116293 non-null int64\n",
      "DZ                       116293 non-null int64\n",
      "BR                       116293 non-null int64\n",
      "BCFG                     116293 non-null int64\n",
      "SN                       116293 non-null int64\n",
      "VCFG                     116293 non-null int64\n",
      "RA                       116293 non-null int64\n",
      "HZ                       116293 non-null int64\n",
      "VCTS                     116293 non-null int64\n",
      "FU                       116293 non-null int64\n",
      "FG+                      116293 non-null int64\n",
      "MIFG                     116293 non-null int64\n",
      "SQ                       116293 non-null int64\n",
      "GR                       116293 non-null int64\n",
      "FG                       116293 non-null int64\n",
      "TS                       116293 non-null int64\n",
      "Temp_Min_both            116293 non-null float64\n",
      "Temp_Max_both            116293 non-null float64\n",
      "Temp_Avg_both            116293 non-null float64\n",
      "Temp_Dew_Point_both      116293 non-null float64\n",
      "Temp_Wet_Bulb_both       116293 non-null float64\n",
      "StnPressure_both         116293 non-null float64\n",
      "Ht_Cool_both             116293 non-null float64\n",
      "Day Length               116293 non-null int64\n",
      "Temp_Min                 116293 non-null float64\n",
      "Temp_Max                 116293 non-null float64\n",
      "Temp_Avg                 116293 non-null float64\n",
      "Temp_Dew_Point           116293 non-null float64\n",
      "StnPressure              116293 non-null float64\n",
      "Day_Length               116293 non-null float64\n",
      "Ht_Cool                  116293 non-null float64\n",
      "PrecipTotal              116293 non-null float64\n",
      "Temp_Min1                116293 non-null float64\n",
      "Temp_Min2                116293 non-null float64\n",
      "Temp_Min4                116293 non-null float64\n",
      "Temp_Min7                116293 non-null float64\n",
      "Temp_Min10               116293 non-null float64\n",
      "Temp_Min14               116293 non-null float64\n",
      "Temp_Max1                116293 non-null float64\n",
      "Temp_Max2                116293 non-null float64\n",
      "Temp_Max4                116293 non-null float64\n",
      "Temp_Max7                116293 non-null float64\n",
      "Temp_Max10               116293 non-null float64\n",
      "Temp_Max14               116293 non-null float64\n",
      "Temp_Dew_Point1          116293 non-null float64\n",
      "Temp_Dew_Point2          116293 non-null float64\n",
      "Temp_Dew_Point4          116293 non-null float64\n",
      "Temp_Dew_Point7          116293 non-null float64\n",
      "Temp_Dew_Point10         116293 non-null float64\n",
      "Temp_Dew_Point14         116293 non-null float64\n",
      "Temp_Avg1                116293 non-null float64\n",
      "Temp_Avg2                116293 non-null float64\n",
      "Temp_Avg4                116293 non-null float64\n",
      "Temp_Avg7                116293 non-null float64\n",
      "Temp_Avg10               116293 non-null float64\n",
      "Temp_Avg14               116293 non-null float64\n",
      "PrecipTotal1             116293 non-null float64\n",
      "PrecipTotal2             116293 non-null float64\n",
      "PrecipTotal4             116293 non-null float64\n",
      "PrecipTotal7             116293 non-null float64\n",
      "PrecipTotal10            116293 non-null float64\n",
      "PrecipTotal14            116293 non-null float64\n",
      "dtypes: float64(47), int64(23)\n",
      "memory usage: 62.1 MB\n"
     ]
    }
   ],
   "source": [
    "test.info()"
   ]
  },
  {
   "cell_type": "code",
   "execution_count": 108,
   "metadata": {},
   "outputs": [],
   "source": [
    "train = train.drop(['Temp_Wet_Bulb_both', 'StnPressure_both', 'Day Length'], axis=1)\n",
    "test = test.drop(['Temp_Wet_Bulb_both', 'StnPressure_both', 'Day Length'], axis=1)"
   ]
  },
  {
   "cell_type": "markdown",
   "metadata": {},
   "source": [
    "### Random Forests"
   ]
  },
  {
   "cell_type": "code",
   "execution_count": 140,
   "metadata": {},
   "outputs": [],
   "source": [
    "clf = RandomForestClassifier()"
   ]
  },
  {
   "cell_type": "code",
   "execution_count": 141,
   "metadata": {},
   "outputs": [
    {
     "data": {
      "text/plain": [
       "RandomForestClassifier(bootstrap=True, class_weight=None, criterion='gini',\n",
       "            max_depth=None, max_features='auto', max_leaf_nodes=None,\n",
       "            min_impurity_split=1e-07, min_samples_leaf=1,\n",
       "            min_samples_split=2, min_weight_fraction_leaf=0.0,\n",
       "            n_estimators=10, n_jobs=1, oob_score=False, random_state=None,\n",
       "            verbose=0, warm_start=False)"
      ]
     },
     "execution_count": 141,
     "metadata": {},
     "output_type": "execute_result"
    }
   ],
   "source": [
    "clf.fit(train, target)"
   ]
  },
  {
   "cell_type": "code",
   "execution_count": 144,
   "metadata": {},
   "outputs": [],
   "source": [
    "write_csv('randomforests', clf)"
   ]
  },
  {
   "cell_type": "markdown",
   "metadata": {},
   "source": [
    "### XGBoost"
   ]
  },
  {
   "cell_type": "code",
   "execution_count": 115,
   "metadata": {
    "collapsed": true
   },
   "outputs": [],
   "source": [
    "from xgboost import XGBClassifier, plot_importance"
   ]
  },
  {
   "cell_type": "code",
   "execution_count": 116,
   "metadata": {
    "collapsed": true
   },
   "outputs": [],
   "source": [
    "xgb = XGBClassifier()"
   ]
  },
  {
   "cell_type": "code",
   "execution_count": 117,
   "metadata": {},
   "outputs": [
    {
     "data": {
      "text/plain": [
       "XGBClassifier(base_score=0.5, booster='gbtree', colsample_bylevel=1,\n",
       "       colsample_bytree=1, gamma=0, learning_rate=0.1, max_delta_step=0,\n",
       "       max_depth=3, min_child_weight=1, missing=None, n_estimators=100,\n",
       "       n_jobs=1, nthread=None, objective='binary:logistic', random_state=0,\n",
       "       reg_alpha=0, reg_lambda=1, scale_pos_weight=1, seed=None,\n",
       "       silent=True, subsample=1)"
      ]
     },
     "execution_count": 117,
     "metadata": {},
     "output_type": "execute_result"
    }
   ],
   "source": [
    "xgb.fit(train, target)"
   ]
  },
  {
   "cell_type": "code",
   "execution_count": 126,
   "metadata": {},
   "outputs": [
    {
     "name": "stdout",
     "output_type": "stream",
     "text": [
      "[ 0.11472603  0.1729452   0.00856164  0.08047945  0.08219178  0.12328767\n",
      "  0.00513699  0.0359589   0.          0.          0.          0.          0.\n",
      "  0.          0.00171233  0.          0.          0.          0.          0.\n",
      "  0.          0.          0.          0.          0.00342466  0.01027397\n",
      "  0.01027397  0.          0.          0.          0.          0.          0.\n",
      "  0.00342466  0.11815068  0.          0.00171233  0.00342466  0.\n",
      "  0.01027397  0.01027397  0.          0.00856164  0.00171233  0.\n",
      "  0.00684932  0.00513699  0.01883562  0.00171233  0.01883562  0.01027397\n",
      "  0.00684932  0.00684932  0.00513699  0.01369863  0.          0.\n",
      "  0.00856164  0.00171233  0.01541096  0.01712329  0.00171233  0.02739726\n",
      "  0.00684932  0.00513699  0.00171233  0.01369863]\n"
     ]
    }
   ],
   "source": [
    "print(xgb.feature_importances_)"
   ]
  },
  {
   "cell_type": "code",
   "execution_count": 127,
   "metadata": {
    "collapsed": true
   },
   "outputs": [],
   "source": [
    "from matplotlib import pyplot as plt"
   ]
  },
  {
   "cell_type": "code",
   "execution_count": 128,
   "metadata": {},
   "outputs": [
    {
     "data": {
      "image/png": "[encoded data removed]",
      "text/plain": [
       "<matplotlib.figure.Figure at 0x123b336a0>"
      ]
     },
     "metadata": {},
     "output_type": "display_data"
    }
   ],
   "source": [
    "# plot feature importance\n",
    "fig, ax = plt.subplots(figsize=(10, 15))\n",
    "plot_importance(xgb, ax=ax)\n",
    "plt.show()"
   ]
  },
  {
   "cell_type": "code",
   "execution_count": 145,
   "metadata": {
    "collapsed": true
   },
   "outputs": [],
   "source": [
    "write_csv('xgboost', xgb)"
   ]
  }
 ],
 "metadata": {
  "kernelspec": {
   "display_name": "Python 3",
   "language": "python",
   "name": "python3"
  },
  "language_info": {
   "codemirror_mode": {
    "name": "ipython",
    "version": 3
   },
   "file_extension": ".py",
   "mimetype": "text/x-python",
   "name": "python",
   "nbconvert_exporter": "python",
   "pygments_lexer": "ipython3",
   "version": "3.6.1"
  }
 },
 "nbformat": 4,
 "nbformat_minor": 2
}
